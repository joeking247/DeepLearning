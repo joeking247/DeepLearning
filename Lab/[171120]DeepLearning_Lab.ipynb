{
 "cells": [
  {
   "cell_type": "code",
   "execution_count": 1,
   "metadata": {
    "collapsed": true
   },
   "outputs": [],
   "source": [
    "import tensorflow as tf\n",
    "import numpy as np\n",
    "import matplotlib.pyplot as plt"
   ]
  },
  {
   "cell_type": "code",
   "execution_count": 2,
   "metadata": {},
   "outputs": [
    {
     "name": "stdout",
     "output_type": "stream",
     "text": [
      "Successfully downloaded train-images-idx3-ubyte.gz 9912422 bytes.\n",
      "Extracting ./mnist/data/train-images-idx3-ubyte.gz\n",
      "Successfully downloaded train-labels-idx1-ubyte.gz 28881 bytes.\n",
      "Extracting ./mnist/data/train-labels-idx1-ubyte.gz\n",
      "Successfully downloaded t10k-images-idx3-ubyte.gz 1648877 bytes.\n",
      "Extracting ./mnist/data/t10k-images-idx3-ubyte.gz\n",
      "Successfully downloaded t10k-labels-idx1-ubyte.gz 4542 bytes.\n",
      "Extracting ./mnist/data/t10k-labels-idx1-ubyte.gz\n"
     ]
    }
   ],
   "source": [
    "from tensorflow.examples.tutorials.mnist import input_data\n",
    "mnist = input_data.read_data_sets(\"./mnist/data/\", one_hot=True)"
   ]
  },
  {
   "cell_type": "code",
   "execution_count": 3,
   "metadata": {
    "collapsed": true
   },
   "outputs": [],
   "source": [
    "learning_rate = 0.01\n",
    "training_epoch = 20\n",
    "batch_size = 100\n",
    "n_hidden = 256\n",
    "n_input = 28*28\n",
    "X = tf.placeholder(tf.float32, [None, n_input])"
   ]
  },
  {
   "cell_type": "code",
   "execution_count": 8,
   "metadata": {},
   "outputs": [],
   "source": [
    "W_encode = tf.Variable(tf.random_normal([n_input, n_hidden]))\n",
    "b_encode = tf.Variable(tf.random_normal([n_hidden]))\n",
    "encoder = tf.nn.sigmoid(tf.add(tf.matmul(X, W_encode), b_encode))"
   ]
  },
  {
   "cell_type": "code",
   "execution_count": 9,
   "metadata": {
    "collapsed": true
   },
   "outputs": [],
   "source": [
    "W_decode = tf.Variable(tf.random_normal([n_hidden, n_input]))\n",
    "b_decode = tf.Variable(tf.random_normal([n_input]))\n",
    "decoder = tf.nn.sigmoid(tf.add(tf.matmul(encoder, W_decode), b_decode))"
   ]
  },
  {
   "cell_type": "code",
   "execution_count": 11,
   "metadata": {
    "collapsed": true
   },
   "outputs": [],
   "source": [
    "cost = tf.reduce_mean(tf.pow(X-decoder, 2))\n",
    "optimizer = tf.train.AdamOptimizer(learning_rate).minimize(cost)"
   ]
  },
  {
   "cell_type": "code",
   "execution_count": 12,
   "metadata": {
    "collapsed": true
   },
   "outputs": [],
   "source": [
    "sess = tf.Session()\n",
    "init = tf.global_variables_initializer()\n",
    "sess.run(init)"
   ]
  },
  {
   "cell_type": "code",
   "execution_count": 14,
   "metadata": {},
   "outputs": [
    {
     "name": "stdout",
     "output_type": "stream",
     "text": [
      "Epoch: 0001 Avg.cost = 0.0597\n",
      "Epoch: 0002 Avg.cost = 0.0357\n",
      "Epoch: 0003 Avg.cost = 0.0313\n",
      "Epoch: 0004 Avg.cost = 0.0294\n",
      "Epoch: 0005 Avg.cost = 0.0276\n",
      "Epoch: 0006 Avg.cost = 0.0263\n",
      "Epoch: 0007 Avg.cost = 0.0256\n",
      "Epoch: 0008 Avg.cost = 0.0249\n",
      "Epoch: 0009 Avg.cost = 0.0246\n",
      "Epoch: 0010 Avg.cost = 0.0238\n",
      "Epoch: 0011 Avg.cost = 0.0233\n",
      "Epoch: 0012 Avg.cost = 0.0232\n",
      "Epoch: 0013 Avg.cost = 0.0230\n",
      "Epoch: 0014 Avg.cost = 0.0229\n",
      "Epoch: 0015 Avg.cost = 0.0228\n",
      "Epoch: 0016 Avg.cost = 0.0227\n",
      "Epoch: 0017 Avg.cost = 0.0227\n",
      "Epoch: 0018 Avg.cost = 0.0226\n",
      "Epoch: 0019 Avg.cost = 0.0225\n",
      "Epoch: 0020 Avg.cost = 0.0225\n"
     ]
    }
   ],
   "source": [
    "total_batch = int(mnist.train.num_examples/batch_size)\n",
    "\n",
    "for epoch in range(training_epoch):\n",
    "    total_cost = 0\n",
    "    for i in range(total_batch):\n",
    "        batch_xs, batch_ys = mnist.train.next_batch(batch_size)\n",
    "        _, cost_val = sess.run([optimizer, cost], feed_dict = {X:batch_xs})\n",
    "        total_cost += cost_val\n",
    "    print('Epoch:', '%04d' %(epoch+1), 'Avg.cost =', '{:.4f}'.format(total_cost/total_batch))"
   ]
  },
  {
   "cell_type": "code",
   "execution_count": 15,
   "metadata": {
    "collapsed": true
   },
   "outputs": [],
   "source": [
    "n = 4\n",
    "canvas_orig = np.empty((28*n, 28*n))\n",
    "canvas_recon = np.empty((28*n, 28*n))\n",
    "for i in range(n):\n",
    "    batch_x, _ = mnist.test.next_batch(n)\n",
    "    g = sess.run(decoder, feed_dict = {X:batch_x})\n",
    "    \n",
    "    for j in range(n):\n",
    "        canvas_orig[i*28:(i+1)*28, j*28:(j+1)*28] = batch_x[j].reshape([28, 28])\n",
    "    for j in range(n):\n",
    "        canvas_recon[i*28:(i+1)*28, j*28:(j+1)*28] = g[j].reshape([28, 28])"
   ]
  },
  {
   "cell_type": "code",
   "execution_count": 16,
   "metadata": {},
   "outputs": [
    {
     "name": "stdout",
     "output_type": "stream",
     "text": [
      "Original Images\n"
     ]
    },
    {
     "data": {
      "image/png": "[encoded data removed]",
      "text/plain": [
       "<matplotlib.figure.Figure at 0x7f73380fe710>"
      ]
     },
     "metadata": {},
     "output_type": "display_data"
    },
    {
     "name": "stdout",
     "output_type": "stream",
     "text": [
      "Reconstructed Images\n"
     ]
    },
    {
     "data": {
      "image/png": "[encoded data removed]",
      "text/plain": [
       "<matplotlib.figure.Figure at 0x7f733484db38>"
      ]
     },
     "metadata": {},
     "output_type": "display_data"
    }
   ],
   "source": [
    "print(\"Original Images\")\n",
    "plt.figure(figsize =(n, n))\n",
    "plt.imshow(canvas_orig, origin=\"upper\", cmap = \"gray\")\n",
    "plt.show()\n",
    "\n",
    "print(\"Reconstructed Images\")\n",
    "plt.figure(figsize=(n,n))\n",
    "plt.imshow(canvas_recon, origin=\"upper\", cmap=\"gray\")\n",
    "plt.show()"
   ]
  },
  {
   "cell_type": "code",
   "execution_count": 22,
   "metadata": {
    "collapsed": true
   },
   "outputs": [],
   "source": [
    "X = tf.placeholder(tf.float32, [None, 28, 28, 1])"
   ]
  },
  {
   "cell_type": "code",
   "execution_count": 23,
   "metadata": {},
   "outputs": [],
   "source": [
    "W1 = tf.Variable(tf.random_normal([5, 5, 1, 32], stddev = 0.01))\n",
    "L1 = tf.nn.conv2d(X, W1, strides = [1, 2, 2, 1], padding = 'SAME')\n",
    "L1 = tf.nn.relu(L1)\n",
    "W_encode = tf.Variable(tf.random_normal([14*14*32, 256], stddev=0.01))\n",
    "L2 = tf.reshape(L1, [-1, 14*14*32])\n",
    "h = tf.matmul(L2, W_encode)"
   ]
  },
  {
   "cell_type": "code",
   "execution_count": 24,
   "metadata": {
    "collapsed": true
   },
   "outputs": [],
   "source": [
    "output_batch = tf.shape(X)[0]\n",
    "deconv_shape = tf.stack([output_batch, 28, 28, 1])\n",
    "W_decode = tf.Variable(tf.random_normal([256, 14*14*32]))\n",
    "L3 = tf.matmul(h, W_decode)\n",
    "W3 = tf.Variable(tf.random_normal([5, 5, 1, 32]))\n",
    "L3 = tf.reshape(L3, [-1, 14, 14, 32])\n",
    "decoder = tf.nn.conv2d_transpose(L3, W3, output_shape = deconv_shape, strides=[1, 2, 2, 1], padding='SAME')\n",
    "decoder = tf.nn.sigmoid(decoder)"
   ]
  },
  {
   "cell_type": "code",
   "execution_count": 27,
   "metadata": {},
   "outputs": [
    {
     "name": "stdout",
     "output_type": "stream",
     "text": [
      "Epoch: 0001 Avg.cost = 0.0286\n",
      "Epoch: 0002 Avg.cost = 0.0107\n",
      "Epoch: 0003 Avg.cost = 0.0069\n",
      "Epoch: 0004 Avg.cost = 0.0044\n",
      "Epoch: 0005 Avg.cost = 0.0034\n",
      "Epoch: 0006 Avg.cost = 0.0029\n",
      "Epoch: 0007 Avg.cost = 0.0026\n",
      "Epoch: 0008 Avg.cost = 0.0022\n",
      "Epoch: 0009 Avg.cost = 0.0021\n",
      "Epoch: 0010 Avg.cost = 0.0020\n",
      "Epoch: 0011 Avg.cost = 0.0019\n",
      "Epoch: 0012 Avg.cost = 0.0018\n",
      "Epoch: 0013 Avg.cost = 0.0018\n",
      "Epoch: 0014 Avg.cost = 0.0018\n",
      "Epoch: 0015 Avg.cost = 0.0017\n",
      "Epoch: 0016 Avg.cost = 0.0016\n",
      "Epoch: 0017 Avg.cost = 0.0016\n",
      "Epoch: 0018 Avg.cost = 0.0015\n",
      "Epoch: 0019 Avg.cost = 0.0016\n",
      "Epoch: 0020 Avg.cost = 0.0015\n"
     ]
    }
   ],
   "source": [
    "sess = tf.Session()\n",
    "init = tf.global_variables_initializer()\n",
    "sess.run(init)\n",
    "total_batch = int(mnist.train.num_examples/batch_size)\n",
    "\n",
    "for epoch in range(training_epoch):\n",
    "    total_cost = 0\n",
    "    for i in range(total_batch):\n",
    "        batch_xs, batch_ys = mnist.train.next_batch(batch_size)\n",
    "        _, cost_val = sess.run([optimizer, cost], feed_dict = {X:batch_xs.reshape(-1, 28, 28, 1)})\n",
    "        total_cost += cost_val\n",
    "    print('Epoch:', '%04d' %(epoch+1), 'Avg.cost =', '{:.4f}'.format(total_cost/total_batch))\n"
   ]
  },
  {
   "cell_type": "code",
   "execution_count": 28,
   "metadata": {
    "collapsed": true
   },
   "outputs": [],
   "source": [
    "n = 4\n",
    "canvas_orig = np.empty((28*n, 28*n))\n",
    "canvas_recon = np.empty((28*n, 28*n))\n",
    "for i in range(n):\n",
    "    batch_x, _ = mnist.test.next_batch(100)\n",
    "    g = sess.run(decoder, feed_dict = {X:batch_x.reshape(-1, 28, 28, 1)})\n",
    "    for j in range(n):\n",
    "        canvas_orig[i*28:(i+1)*28, j*28:(j+1)*28] = batch_x[j].reshape([28, 28])\n",
    "    for j in range(n):\n",
    "        canvas_recon[i*28:(i+1)*28, j*28:(j+1)*28] = g[j].reshape([28, 28])"
   ]
  },
  {
   "cell_type": "code",
   "execution_count": 29,
   "metadata": {},
   "outputs": [
    {
     "name": "stdout",
     "output_type": "stream",
     "text": [
      "Original Images\n"
     ]
    },
    {
     "data": {
      "image/png": "[encoded data removed]",
      "text/plain": [
       "<matplotlib.figure.Figure at 0x7f73319e50b8>"
      ]
     },
     "metadata": {},
     "output_type": "display_data"
    },
    {
     "name": "stdout",
     "output_type": "stream",
     "text": [
      "Reconstructed Images\n"
     ]
    },
    {
     "data": {
      "image/png": "[encoded data removed]",
      "text/plain": [
       "<matplotlib.figure.Figure at 0x7f732fdd0d68>"
      ]
     },
     "metadata": {},
     "output_type": "display_data"
    }
   ],
   "source": [
    "print(\"Original Images\")\n",
    "plt.figure(figsize=(n,n))\n",
    "plt.imshow(canvas_orig, origin=\"upper\", cmap=\"gray\")\n",
    "plt.show()\n",
    "\n",
    "print(\"Reconstructed Images\")\n",
    "plt.figure(figsize=(n,n))\n",
    "plt.imshow(canvas_recon, origin=\"upper\", cmap=\"gray\")\n",
    "plt.show()"
   ]
  },
  {
   "cell_type": "code",
   "execution_count": null,
   "metadata": {
    "collapsed": true
   },
   "outputs": [],
   "source": []
  }
 ],
 "metadata": {
  "kernelspec": {
   "display_name": "Python 3",
   "language": "python",
   "name": "python3"
  },
  "language_info": {
   "codemirror_mode": {
    "name": "ipython",
    "version": 3
   },
   "file_extension": ".py",
   "mimetype": "text/x-python",
   "name": "python",
   "nbconvert_exporter": "python",
   "pygments_lexer": "ipython3",
   "version": "3.6.1"
  }
 },
 "nbformat": 4,
 "nbformat_minor": 2
}
